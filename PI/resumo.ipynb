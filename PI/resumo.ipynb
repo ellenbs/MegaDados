{
 "cells": [
  {
   "cell_type": "markdown",
   "id": "d5c1fa54",
   "metadata": {},
   "source": [
    "## Resumo prova intermediária\n",
    "---"
   ]
  },
  {
   "cell_type": "markdown",
   "id": "d181ec68",
   "metadata": {},
   "source": [
    "### 1. Criando tabelas\n",
    "---"
   ]
  },
  {
   "cell_type": "markdown",
   "id": "090c74cf",
   "metadata": {},
   "source": [
    "Para criar tabelas usa-se os seguintes comandos:\n",
    "\n",
    "\n",
    "<code>CREATE TABLE Funcionario(\n",
    "\tRG VARCHAR(32) primary key,\n",
    "    nome VARCHAR(100),\n",
    "    salario DECIMAL(10,2),    \n",
    "    telefone VARCHAR(45),   \n",
    "    idDepartamento INT\n",
    ")</code>\n",
    "\n",
    "Para adicionar chaves estrangeiras:\n",
    "\n",
    "<code>constraint fk_departamento\n",
    "\t\tforeign key (idDepartamento)\n",
    "        references Departamento (idDepartamento)</code>\n",
    "\n",
    "Para rodar um script mais de uma vez:\n",
    "\n",
    "<code>DROP TABLE IF EXISTS Funcionario;</code>\n"
   ]
  },
  {
   "cell_type": "markdown",
   "id": "f280fd07",
   "metadata": {},
   "source": [
    "### 2. Alterando tabelas\n",
    "---"
   ]
  },
  {
   "cell_type": "markdown",
   "id": "cfb251d9",
   "metadata": {},
   "source": [
    "Para adicionar colunas:\n",
    "\n",
    "<code>ALTER TABLE Funcionario ADD COLUMN RG_mentor VARCHAR(45);</code>\n",
    "\n",
    "Para adicionar chaves estrangeiras:\n",
    "\n",
    "<code>ALTER TABLE Funcionario \n",
    "        ADD constraint fk_mentor\n",
    "\t\tforeign key (RG_mentor) references Funcionario (RG); </code>"
   ]
  },
  {
   "cell_type": "markdown",
   "id": "85e27b97",
   "metadata": {},
   "source": [
    "### 3. Inserindo valores\n",
    "---"
   ]
  },
  {
   "cell_type": "markdown",
   "id": "1555290a",
   "metadata": {},
   "source": [
    "<code>INSERT INTO tabela (coluna1, coluna2, coluna3) VALUES (valor1, valor2, valor3)</code>"
   ]
  },
  {
   "cell_type": "markdown",
   "id": "1db04eef",
   "metadata": {},
   "source": [
    "### 4. Atualizando valores\n",
    "---"
   ]
  },
  {
   "cell_type": "markdown",
   "id": "4b187224",
   "metadata": {},
   "source": [
    "<code>UPDATE tabela SET coluna1=\"valor1\" WHERE coluna1=\"valor2\" </code>\n",
    "\n",
    "Caso seja desejado usar um DELETE + INSERT, pode ser então usado o REPLACE:\n",
    "\n",
    "<code>REPLACE INTO tabela VALUES (\"find\", \"replace\")</code>"
   ]
  },
  {
   "cell_type": "markdown",
   "id": "b5baa4ae",
   "metadata": {},
   "source": [
    "### 5. Deletando valores\n",
    "---"
   ]
  },
  {
   "cell_type": "markdown",
   "id": "7db5446d",
   "metadata": {},
   "source": [
    "<code>DELETE FROM tabelas WHERE coluna1=\"valor1\"</code>\n",
    "\n",
    "Caso seja necessário manter a integridade dos dados, ou seja, se uma linha da tabela pai for apagada e alguma linha da tabela filha referenciava esses dados, podemos usar as opções ON DELETE e ON UPDATE:\n",
    "\n",
    "<code>ALTER TABLE tabela\n",
    "    ADD CONSTRAINT fk_valor FOREIGN KEY (coluna1) REFERENCES tabela2 (coluna2)\n",
    "    ON DELETE CASCADE\n",
    "    ON UPDATE CASCADE;</code>\n",
    "\n",
    "A opção CASCADE permite excluir ou atualizar os registros relacionados presentes na tabela filha automaticamente, quando um registro da tabela pai for atualizado (ON UPDATE) ou excluído (ON DELETE). É a opção mais comum aplicada.\n"
   ]
  },
  {
   "cell_type": "markdown",
   "id": "2da7da5f",
   "metadata": {},
   "source": [
    "### 6. Comando básicos\n",
    "---"
   ]
  },
  {
   "cell_type": "markdown",
   "id": "8c7b22bf",
   "metadata": {},
   "source": [
    "O Comando WHERE pode ser usado para filtros:\n",
    "\n",
    "<code>SELECT coluna FROM tabela WHERE coluna IS NULL</code>\n",
    "\n",
    "<code>SELECT coluna FROM tabela WHERE coluna = \"algum_valor\"</code>\n",
    "\n",
    "O comando LIMIT limita o número de linhas da query:\n",
    "\n",
    "<code>SELECT coluna FROM tabela WHERE coluna = \"algum_valor\" LIMIT 10</code>\n",
    "\n",
    "O comando ORDER BY ordena a ordem das resposta, pode ser DESC ou ASC:\n",
    "\n",
    "<code>SELECT coluna FROM tabela ORDER BY alguma coluna ASC</code>\n",
    "\n",
    "O comando DISTINCT seleciona somente valores distintos:\n",
    "\n",
    "<code>SELECT DISTINCT coluna1 FROM tabela WHERE coluna IS NOT NULL</code>\n",
    "\n",
    "O comando HAVING funciona igual ao WHERE, mas deve ser usado depois do agrupamento:\n",
    "\n",
    "<code>SELECT \n",
    "    coluna, COUNT(coluna1) as cnt\n",
    "FROM \n",
    "    tabela\n",
    "GROUP BY\n",
    "    coluna\n",
    "HAVING \n",
    "    cnt > 20\n",
    "ORDER BY\n",
    "    cnt DESC</code>"
   ]
  },
  {
   "cell_type": "markdown",
   "id": "21ae379e",
   "metadata": {},
   "source": [
    "### 7. Agragação\n",
    "---"
   ]
  },
  {
   "cell_type": "markdown",
   "id": "d9cd3a39",
   "metadata": {},
   "source": [
    "Count: \n",
    "\n",
    "<code>SELECT COUNT(*) FROM tabela</code>\n",
    "\n",
    "Max:\n",
    "\n",
    "<code>SELECT MAX(coluna) FROM tabela</code>\n",
    "\n",
    "Sum:\n",
    "\n",
    "<code>SELECT SUM(coluna) from tabela</code>\n",
    "\n",
    "Avg:\n",
    "\n",
    "<code>SELECT AVG(coluna) from tabela</code>"
   ]
  },
  {
   "cell_type": "markdown",
   "id": "a52a2c99",
   "metadata": {},
   "source": [
    "### 8.  Cria variáveis\n",
    "---"
   ]
  },
  {
   "cell_type": "markdown",
   "id": "412983bd",
   "metadata": {},
   "source": [
    "Criar varíaveis é possível, a query deve retornar apenas um valor:\n",
    "\n",
    "<code>SELECT MAX(duracao) INTO @max_duracao from musica</code>"
   ]
  },
  {
   "cell_type": "markdown",
   "id": "f5283701",
   "metadata": {},
   "source": [
    "### 9. Join\n",
    "---"
   ]
  },
  {
   "cell_type": "markdown",
   "id": "05cc495c",
   "metadata": {},
   "source": [
    "O comando INNER JOIN faz o produto cartesiano das tabelas:\n",
    "\n",
    "<code>SELECT \n",
    "    coluna\n",
    "FROM \n",
    "    tabela \n",
    "INNER JOIN tabela1 USING (coluna)</code>\n",
    "\n",
    "Caso as chaves sejam diferentes nas tabelas, o comando deve ser alterado para:\n",
    "\n",
    "<code>SELECT\n",
    "    coluna\n",
    "FROM\n",
    "    tabela\n",
    "    INNER JOIN tabela1 ON tabela.coluna = tabela1.coluna1</code>"
   ]
  },
  {
   "cell_type": "markdown",
   "id": "965120ac",
   "metadata": {},
   "source": [
    "### 10. Concat\n",
    "---"
   ]
  },
  {
   "cell_type": "markdown",
   "id": "5439476e",
   "metadata": {},
   "source": [
    "<code>SELECT\n",
    "    CONCAT('\"', c1.coluna, '\" indicado por \"', c2.coluna, '\"')\n",
    "FROM\n",
    "    cd c1,\n",
    "    cd c2\n",
    "WHERE\n",
    "    c1.coluna1 = c2.coluna1</code>"
   ]
  },
  {
   "cell_type": "markdown",
   "id": "3e59a019",
   "metadata": {},
   "source": [
    "### 11. Group by\n",
    "---\n",
    "\n",
    "<code>SELECT \n",
    "    first_name, last_name, COUNT(film_id) as cnt\n",
    "FROM \n",
    "    film\n",
    "    INNER JOIN film_actor USING (film_id)\n",
    "    INNER JOIN actor USING (actor_id)\n",
    "GROUP BY\n",
    "    actor_id\n",
    "ORDER BY cnt DESC\n",
    "LIMIT 10</code>"
   ]
  },
  {
   "cell_type": "markdown",
   "id": "9fb59a40",
   "metadata": {},
   "source": [
    "### 12. Tabelas temporários\n",
    "---"
   ]
  },
  {
   "cell_type": "markdown",
   "id": "35dcf8e3",
   "metadata": {},
   "source": [
    "<code>CREATE TEMPORARY TABLE title_count\n",
    "    SELECT \n",
    "        title, COUNT(rental_id) as cnt\n",
    "    FROM\n",
    "        film</code>"
   ]
  },
  {
   "cell_type": "code",
   "execution_count": null,
   "id": "46e659b8",
   "metadata": {},
   "outputs": [],
   "source": []
  }
 ],
 "metadata": {
  "kernelspec": {
   "display_name": "Python 3 (ipykernel)",
   "language": "python",
   "name": "python3"
  },
  "language_info": {
   "codemirror_mode": {
    "name": "ipython",
    "version": 3
   },
   "file_extension": ".py",
   "mimetype": "text/x-python",
   "name": "python",
   "nbconvert_exporter": "python",
   "pygments_lexer": "ipython3",
   "version": "3.8.2"
  }
 },
 "nbformat": 4,
 "nbformat_minor": 5
}
