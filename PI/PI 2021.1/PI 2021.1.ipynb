{
 "cells": [
  {
   "cell_type": "code",
   "execution_count": 2,
   "id": "760769f9",
   "metadata": {},
   "outputs": [],
   "source": [
    "import mysql.connector\n",
    "from functools import partial\n",
    "\n",
    "\n",
    "def get_connection_helper():\n",
    "\n",
    "    def run_db_query(connection, query, args=None):\n",
    "        with connection.cursor() as cursor:\n",
    "            print('Executando query:')\n",
    "            cursor.execute(query, args)\n",
    "            for result in cursor:\n",
    "                print(result)\n",
    "\n",
    "    connection = mysql.connector.connect(\n",
    "        host='localhost',\n",
    "        user='megadados',\n",
    "        password='Megadados!',\n",
    "        database='XPTO',\n",
    "    )\n",
    "    return connection, partial(run_db_query, connection)\n",
    "\n",
    "\n",
    "connection, db = get_connection_helper()"
   ]
  },
  {
   "cell_type": "code",
   "execution_count": 8,
   "id": "97c7fc18",
   "metadata": {},
   "outputs": [
    {
     "name": "stdout",
     "output_type": "stream",
     "text": [
      "Executando query:\n",
      "('pão', 95.0)\n",
      "('incoerente', 83.0)\n",
      "('legumes', 78.0)\n"
     ]
    }
   ],
   "source": [
    "db(\"\"\"\n",
    "SELECT\n",
    "    pizza, preco - SUM(quantidade * preco_unitario) as lucro\n",
    "FROM\n",
    "    Pizza\n",
    "    INNER JOIN IngredientePizza USING (pizza)\n",
    "    INNER JOIN Ingrediente USING (ingrediente)\n",
    "GROUP BY\n",
    "    pizza\n",
    "ORDER BY \n",
    "    lucro DESC\n",
    "LIMIT 3\n",
    "\"\"\")"
   ]
  },
  {
   "cell_type": "code",
   "execution_count": 18,
   "id": "1b675274",
   "metadata": {},
   "outputs": [
    {
     "name": "stdout",
     "output_type": "stream",
     "text": [
      "Executando query:\n",
      "Executando query:\n",
      "Executando query:\n",
      "('calabresa', 2)\n",
      "('incoerente', 4)\n",
      "('legumes', 2)\n",
      "('mussarela', 2)\n",
      "('pão', 1)\n"
     ]
    }
   ],
   "source": [
    "db('DROP TABLE IF EXISTS qtd_pizza')\n",
    "db(\"\"\"\n",
    "CREATE TEMPORARY TABLE qtd_pizza\n",
    "    SELECT \n",
    "        pizza, COUNT(ingrediente) as qtd_ingredientes\n",
    "    FROM\n",
    "        IngredientePizza\n",
    "    GROUP BY \n",
    "        pizza\n",
    "\"\"\")\n",
    "db('''\n",
    "SELECT * from qtd_pizza\n",
    "''')"
   ]
  },
  {
   "cell_type": "code",
   "execution_count": 20,
   "id": "d9de6109",
   "metadata": {},
   "outputs": [
    {
     "name": "stdout",
     "output_type": "stream",
     "text": [
      "Executando query:\n",
      "Executando query:\n",
      "Executando query:\n",
      "('legumes', 2)\n",
      "('incoerente', 2)\n"
     ]
    }
   ],
   "source": [
    "db('DROP TABLE IF EXISTS qtd_pizza_tipo')\n",
    "db(\"\"\"\n",
    "CREATE TEMPORARY TABLE qtd_pizza_tipo\n",
    "    SELECT \n",
    "        pizza, COUNT(ingrediente) as qtd_vegano\n",
    "    FROM\n",
    "        IngredientePizza\n",
    "        INNER JOIN IngredienteTipo USING (ingrediente)\n",
    "    WHERE\n",
    "        tipo = \"vegana\"\n",
    "    GROUP BY \n",
    "        pizza\n",
    "\"\"\")\n",
    "db('''\n",
    "SELECT * from qtd_pizza_tipo\n",
    "''')"
   ]
  },
  {
   "cell_type": "code",
   "execution_count": 25,
   "id": "c4b125ac",
   "metadata": {},
   "outputs": [
    {
     "name": "stdout",
     "output_type": "stream",
     "text": [
      "Executando query:\n",
      "('legumes', 2, 2)\n"
     ]
    }
   ],
   "source": [
    "db(\"\"\"\n",
    "SELECT \n",
    "    *\n",
    "FROM\n",
    "    qtd_pizza\n",
    "    INNER JOIN qtd_pizza_tipo USING (pizza)\n",
    "WHERE\n",
    "    qtd_ingredientes = qtd_vegano\n",
    "\"\"\")"
   ]
  },
  {
   "cell_type": "code",
   "execution_count": null,
   "id": "ccf5ea2f",
   "metadata": {},
   "outputs": [],
   "source": []
  }
 ],
 "metadata": {
  "kernelspec": {
   "display_name": "Python 3 (ipykernel)",
   "language": "python",
   "name": "python3"
  },
  "language_info": {
   "codemirror_mode": {
    "name": "ipython",
    "version": 3
   },
   "file_extension": ".py",
   "mimetype": "text/x-python",
   "name": "python",
   "nbconvert_exporter": "python",
   "pygments_lexer": "ipython3",
   "version": "3.8.2"
  }
 },
 "nbformat": 4,
 "nbformat_minor": 5
}
