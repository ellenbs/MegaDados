{
 "cells": [
  {
   "cell_type": "code",
   "execution_count": 1,
   "metadata": {},
   "outputs": [],
   "source": [
    "import mysql.connector\n",
    "from functools import partial\n",
    "\n",
    "\n",
    "def get_connection_helper():\n",
    "\n",
    "    def run_db_query(connection, query, args=None):\n",
    "        with connection.cursor() as cursor:\n",
    "            print('Executando query:')\n",
    "            cursor.execute(query, args)\n",
    "            for result in cursor:\n",
    "                print(result)\n",
    "\n",
    "    connection = mysql.connector.connect(\n",
    "        host='localhost',\n",
    "        user='megadados',\n",
    "        password='megadados',\n",
    "        database='XPTO',\n",
    "    )\n",
    "    return connection, partial(run_db_query, connection)\n",
    "\n",
    "\n",
    "connection, db = get_connection_helper()"
   ]
  },
  {
   "cell_type": "markdown",
   "metadata": {},
   "source": [
    "a) Liste as 3 pizzas que dão mais lucro. O lucro de uma pizza é o seu preço de venda menos o \n",
    "custo total dos ingredientes nela utilizados (não se esqueça de que cada ingrediente da pizza tem uma \n",
    "especificação de quantidade a ser utilizada)"
   ]
  },
  {
   "cell_type": "code",
   "execution_count": 83,
   "metadata": {},
   "outputs": [
    {
     "name": "stdout",
     "output_type": "stream",
     "text": [
      "Executando query:\n",
      "Executando query:\n"
     ]
    }
   ],
   "source": [
    "db('''DROP TABLE IF EXISTS custo''')\n",
    "db('''\n",
    "CREATE TEMPORARY TABLE custo\n",
    "SELECT\n",
    "    pizza, SUM(preco_unitario * quantidade) as custo\n",
    "FROM\n",
    "    pizza\n",
    "    INNER JOIN ingredientepizza USING (pizza)\n",
    "    INNER JOIN ingrediente USING (ingrediente)\n",
    "GROUP BY\n",
    "    pizza\n",
    "''')"
   ]
  },
  {
   "cell_type": "code",
   "execution_count": 84,
   "metadata": {},
   "outputs": [
    {
     "name": "stdout",
     "output_type": "stream",
     "text": [
      "Executando query:\n",
      "('calabresa', 95.0)\n",
      "('incoerente', 117.0)\n",
      "('legumes', 22.0)\n",
      "('mussarela', 35.0)\n",
      "('pão', 5.0)\n"
     ]
    }
   ],
   "source": [
    "db('''\n",
    "SELECT\n",
    "    *\n",
    "FROM\n",
    "    custo\n",
    "''')"
   ]
  },
  {
   "cell_type": "code",
   "execution_count": 85,
   "metadata": {},
   "outputs": [
    {
     "name": "stdout",
     "output_type": "stream",
     "text": [
      "Executando query:\n",
      "('pão', 95.0)\n",
      "('incoerente', 83.0)\n",
      "('legumes', 78.0)\n"
     ]
    }
   ],
   "source": [
    "db('''\n",
    "SELECT\n",
    "    pizza, (preco - custo) as lucro\n",
    "FROM\n",
    "    pizza\n",
    "    INNER JOIN custo USING (pizza)\n",
    "ORDER BY\n",
    "    lucro DESC\n",
    "LIMIT\n",
    "    3\n",
    "''')"
   ]
  },
  {
   "cell_type": "markdown",
   "metadata": {},
   "source": [
    "b) Construa uma tabela temporária que liste todas as pizzas e a quantidade de ingredientes nela"
   ]
  },
  {
   "cell_type": "code",
   "execution_count": 86,
   "metadata": {},
   "outputs": [
    {
     "name": "stdout",
     "output_type": "stream",
     "text": [
      "Executando query:\n"
     ]
    }
   ],
   "source": [
    "db('''DROP TABLE IF EXISTS pizza_quantidade_ingredientes''')"
   ]
  },
  {
   "cell_type": "code",
   "execution_count": 87,
   "metadata": {},
   "outputs": [
    {
     "name": "stdout",
     "output_type": "stream",
     "text": [
      "Executando query:\n"
     ]
    }
   ],
   "source": [
    "db('''\n",
    "CREATE TEMPORARY TABLE pizza_quantidade_ingredientes\n",
    "SELECT\n",
    "    pizza, COUNT(ingrediente) as quantidade_ingredientes\n",
    "FROM\n",
    "    pizza\n",
    "    INNER JOIN ingredientepizza USING (pizza)\n",
    "    INNER JOIN ingrediente USING (ingrediente)\n",
    "GROUP BY\n",
    "    pizza\n",
    "''')"
   ]
  },
  {
   "cell_type": "code",
   "execution_count": 88,
   "metadata": {},
   "outputs": [
    {
     "name": "stdout",
     "output_type": "stream",
     "text": [
      "Executando query:\n",
      "('calabresa', 2)\n",
      "('incoerente', 4)\n",
      "('legumes', 2)\n",
      "('mussarela', 2)\n",
      "('pão', 1)\n"
     ]
    }
   ],
   "source": [
    "db('''\n",
    "SELECT \n",
    "    *\n",
    "FROM\n",
    "    pizza_quantidade_ingredientes\n",
    "''')"
   ]
  },
  {
   "cell_type": "markdown",
   "metadata": {},
   "source": [
    "c) Construa uma tabela temporária que liste todas as pizzas a quantidade de ingredientes\n",
    "veganos nela (ou seja, onde o tipo é “vegana”)"
   ]
  },
  {
   "cell_type": "code",
   "execution_count": 89,
   "metadata": {},
   "outputs": [
    {
     "name": "stdout",
     "output_type": "stream",
     "text": [
      "Executando query:\n",
      "Executando query:\n",
      "Executando query:\n",
      "('legumes', 2)\n",
      "('incoerente', 2)\n"
     ]
    }
   ],
   "source": [
    "db('''DROP TABLE IF EXISTS pizza_quantidade_ingredientes_veganos''')\n",
    "db('''\n",
    "CREATE TEMPORARY TABLE pizza_quantidade_ingredientes_veganos\n",
    "SELECT\n",
    "    pizza, COUNT(ingrediente) as quantidade_vegano\n",
    "FROM\n",
    "    pizza\n",
    "    INNER JOIN ingredientepizza USING (pizza)\n",
    "    INNER JOIN ingrediente USING (ingrediente)\n",
    "    INNER JOIN ingredientetipo USING (ingrediente)\n",
    "    INNER JOIN tipo USING (tipo)\n",
    "WHERE\n",
    "    tipo = 'vegana'\n",
    "GROUP BY\n",
    "    pizza\n",
    "''')\n",
    "\n",
    "db('''\n",
    "SELECT\n",
    "    *\n",
    "FROM\n",
    "    pizza_quantidade_ingredientes_veganos\n",
    "''')"
   ]
  },
  {
   "cell_type": "markdown",
   "metadata": {},
   "source": [
    "d) Usando as tabelas temporárias dos itens (b) e (c) – mesmo que você não os tenha feito – liste\n",
    "as pizzas veganas da pizzaria. Uma pizza é vegana se todos os seus ingredientes são veganos."
   ]
  },
  {
   "cell_type": "code",
   "execution_count": 90,
   "metadata": {},
   "outputs": [
    {
     "name": "stdout",
     "output_type": "stream",
     "text": [
      "Executando query:\n",
      "('legumes', 2, 2)\n"
     ]
    }
   ],
   "source": [
    "db('''\n",
    "SELECT\n",
    "    *\n",
    "FROM\n",
    "    pizza_quantidade_ingredientes\n",
    "    INNER JOIN pizza_quantidade_ingredientes_veganos USING (pizza)\n",
    "WHERE \n",
    "    quantidade_vegano = quantidade_ingredientes\n",
    "''')"
   ]
  },
  {
   "cell_type": "markdown",
   "metadata": {},
   "source": [
    "e) Liste os ingredientes e seus tipos, um ingrediente por linha (Dica: use a função\n",
    "GROUP_CONCAT). O resultado deve ser da seguinte forma:"
   ]
  },
  {
   "cell_type": "code",
   "execution_count": 91,
   "metadata": {},
   "outputs": [
    {
     "name": "stdout",
     "output_type": "stream",
     "text": [
      "Executando query:\n",
      "('abobrinha', 'sem gluten,sem lactose,vegana,vegetariana')\n",
      "('calabresa', 'sem gluten,sem lactose')\n",
      "('massa', 'vegetariana')\n",
      "('massa sem gluten', 'sem gluten,sem lactose,vegana,vegetariana')\n",
      "('mussarela', 'sem gluten,vegetariana')\n",
      "('mussarela vegana', 'sem gluten,sem lactose,vegana,vegetariana')\n",
      "('picanha', 'sem gluten,sem lactose')\n"
     ]
    }
   ],
   "source": [
    "db('''\n",
    "SELECT\n",
    "    ingrediente, GROUP_CONCAT(tipo) as lista_tipos \n",
    "FROM\n",
    "    ingrediente\n",
    "    INNER JOIN ingredientetipo USING (ingrediente)\n",
    "    INNER JOIN tipo USING (tipo)\n",
    "GROUP BY\n",
    "    ingrediente\n",
    "''')"
   ]
  },
  {
   "cell_type": "code",
   "execution_count": null,
   "metadata": {},
   "outputs": [],
   "source": []
  }
 ],
 "metadata": {
  "kernelspec": {
   "display_name": "Python 3 (ipykernel)",
   "language": "python",
   "name": "python3"
  },
  "language_info": {
   "codemirror_mode": {
    "name": "ipython",
    "version": 3
   },
   "file_extension": ".py",
   "mimetype": "text/x-python",
   "name": "python",
   "nbconvert_exporter": "python",
   "pygments_lexer": "ipython3",
   "version": "3.8.2"
  }
 },
 "nbformat": 4,
 "nbformat_minor": 4
}
