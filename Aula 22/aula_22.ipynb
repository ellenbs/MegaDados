{
 "cells": [
  {
   "cell_type": "markdown",
   "metadata": {},
   "source": [
    "# Programação funcional"
   ]
  },
  {
   "cell_type": "markdown",
   "metadata": {},
   "source": [
    "## Funções como objetos de primeira classe\n",
    "\n",
    "[Wikipedia: First-Class_function](https://en.wikipedia.org/wiki/First-class_function)\n",
    "\n",
    "Python trata funções como objetos de primeira classe. Ou seja: funções podem ser passadas como argumentos, retornadas como valor, e atribuidas a variáveis. Compare com outras linguagens:\n",
    "\n",
    "- Java: funções não existem, apenas classes e objetos. Em Java, sempre que queremos trabalhar com o conceito de funções como objetos de primeira classe devemos simular este conceito através de classes. (Em Java 8 temos lambdas, mas estes são construídos através desta idéia de simular funções com classes.)\n",
    "\n",
    "- C: Podemos simular funções de primeira classe através do uso de ponteiros para funções.\n",
    "\n",
    "- Assembler: Que função? Só existe ```CALL``` e ```RET```!\n",
    "\n",
    "Mas o que isso significa? Vamos entender na prática. Considere uma função que soma 1 ao valor passado e retorna este resultado."
   ]
  },
  {
   "cell_type": "code",
   "execution_count": null,
   "metadata": {},
   "outputs": [],
   "source": [
    "def soma_um(x):\n",
    "    return x + 1\n",
    "\n",
    "\n",
    "print(soma_um(12))"
   ]
  },
  {
   "cell_type": "markdown",
   "metadata": {},
   "source": [
    "Podemos atribuir esta função a uma variável!"
   ]
  },
  {
   "cell_type": "code",
   "execution_count": null,
   "metadata": {},
   "outputs": [],
   "source": [
    "minha_funcao = soma_um\n",
    "\n",
    "print(minha_funcao(12))"
   ]
  },
  {
   "cell_type": "markdown",
   "metadata": {},
   "source": [
    "Podemos também passar esta função como argumento de outras funções:"
   ]
  },
  {
   "cell_type": "code",
   "execution_count": null,
   "metadata": {},
   "outputs": [],
   "source": [
    "def aplique_funcao(func, valor, repeticoes=1):\n",
    "    print(\"O valor passado é {}\".format(valor))\n",
    "    for i in range(repeticoes):\n",
    "        valor = func(valor)\n",
    "        print(f\"aplicando {i + 1} vez(es), o resultado é {valor}\")\n",
    "    print(f\"O valor retornado será {valor}\")\n",
    "    return valor\n",
    "\n",
    "\n",
    "aplique_funcao(soma_um, 12, 5)"
   ]
  },
  {
   "cell_type": "markdown",
   "metadata": {},
   "source": [
    "Em Python podemos criar uma função em qualquer parte de nosso código."
   ]
  },
  {
   "cell_type": "code",
   "execution_count": null,
   "metadata": {},
   "outputs": [],
   "source": [
    "print(\"Antes de criar a função\")\n",
    "\n",
    "\n",
    "def triplica_valor(x):\n",
    "    return 3 * x\n",
    "\n",
    "\n",
    "print(\"Agora temos uma nova função.\")\n",
    "print(triplica_valor(11))"
   ]
  },
  {
   "cell_type": "markdown",
   "metadata": {},
   "source": [
    "Podemos inclusive criar uma função dentro de uma função:"
   ]
  },
  {
   "cell_type": "code",
   "execution_count": null,
   "metadata": {},
   "outputs": [],
   "source": [
    "import random\n",
    "\n",
    "\n",
    "def my_sorting_function(vec):\n",
    "\n",
    "    def my_inner_sorting_function(vec, inicio, fim):\n",
    "        if inicio == fim:\n",
    "            return\n",
    "\n",
    "        def particiona(vec, inicio, fim):\n",
    "\n",
    "            def troca(vec, i, j):  # NÃO É FUNÇÃO PURA! TEM EFEITOS COLATERAIS!\n",
    "                aux = vec[i]\n",
    "                vec[i] = vec[j]\n",
    "                vec[j] = aux\n",
    "\n",
    "            pivot = vec[inicio]\n",
    "            meio = inicio + 1\n",
    "            final_atual = inicio + 1\n",
    "\n",
    "            while final_atual < fim:\n",
    "                # Invariante:\n",
    "                # vec[(inicio + 1) : meio] < pivot\n",
    "                # vec[meio : final_atual] >= pivot\n",
    "\n",
    "                # Se o novo elemento for menor que o pivot,\n",
    "                # ele pertence à partição inferior.\n",
    "                if vec[final_atual] < pivot:\n",
    "                    troca(vec, final_atual, meio)\n",
    "                    meio += 1\n",
    "\n",
    "                final_atual += 1\n",
    "\n",
    "            # Posiciona o pivot na sua posição correta.\n",
    "            troca(vec, inicio, meio - 1)\n",
    "\n",
    "            return meio - 1\n",
    "\n",
    "        p = particiona(vec, inicio, fim)\n",
    "        my_inner_sorting_function(vec, inicio, p)\n",
    "        my_inner_sorting_function(vec, p + 1, fim)\n",
    "\n",
    "    my_inner_sorting_function(vec, 0, len(vec))"
   ]
  },
  {
   "cell_type": "code",
   "execution_count": null,
   "metadata": {},
   "outputs": [],
   "source": [
    "my_vec = [3, 1, 4, 2]\n",
    "my_sorting_function(my_vec)\n",
    "my_vec"
   ]
  },
  {
   "cell_type": "code",
   "execution_count": null,
   "metadata": {},
   "outputs": [],
   "source": [
    "def test_sorting_function(\n",
    "    sorting_function,\n",
    "    num_tests=1000,\n",
    "    vec_size=101,\n",
    "    rand_range=100,\n",
    "):\n",
    "\n",
    "    def is_sorted(x):\n",
    "        for i in range(len(x) - 1):\n",
    "            if x[i] > x[i + 1]:\n",
    "                return False\n",
    "        return True\n",
    "\n",
    "    for i in range(num_tests):\n",
    "        vec = [random.randrange(rand_range) for _ in range(vec_size)]\n",
    "        sorting_function(vec)\n",
    "        if not is_sorted(vec):\n",
    "            return False\n",
    "\n",
    "    return True\n",
    "\n",
    "\n",
    "print(test_sorting_function(my_sorting_function))"
   ]
  },
  {
   "cell_type": "markdown",
   "metadata": {},
   "source": [
    "## Lambda\n",
    "\n",
    "Podemos criar funções anônimas em Python, chamadas *lambda*. Lambdas são normalmente usados quando precisamos de uma função simples, que se resume a um *statement*. Veja este exemplo:"
   ]
  },
  {
   "cell_type": "code",
   "execution_count": null,
   "metadata": {},
   "outputs": [],
   "source": [
    "def mapeia(func, vec):\n",
    "    resultado = []\n",
    "    for value in vec:\n",
    "        resultado.append(func(value))\n",
    "    return resultado\n",
    "\n",
    "\n",
    "def quadrado(x):\n",
    "    return x * x\n",
    "\n",
    "\n",
    "dados = [2, 3, 5, 7]\n",
    "res = mapeia(quadrado, dados)\n",
    "\n",
    "print(dados)\n",
    "print(res)"
   ]
  },
  {
   "cell_type": "markdown",
   "metadata": {},
   "source": [
    "Note que a função ```quadrado()``` é muito simples. Nestes casos podemos usar um lambda:"
   ]
  },
  {
   "cell_type": "code",
   "execution_count": null,
   "metadata": {},
   "outputs": [],
   "source": [
    "res2 = mapeia(lambda x: x * x, dados)\n",
    "print(res2)"
   ]
  },
  {
   "cell_type": "markdown",
   "metadata": {},
   "source": [
    "Veja como o lambda funciona: usamos a *keyword* ```lambda``` seguida dos argumentos da função e um dois-pontos. Em seguida vem uma expressão, que será avaliada e produzirá o valor retornado. Podemos usar mais de um argumento, como no exemplo abaixo:"
   ]
  },
  {
   "cell_type": "code",
   "execution_count": null,
   "metadata": {},
   "outputs": [],
   "source": [
    "def reduz(func, vec, valor_inicial):\n",
    "    valor = valor_inicial\n",
    "    for item in vec:\n",
    "        valor = func(item, valor)\n",
    "    return valor\n",
    "\n",
    "\n",
    "vec = list(range(10))\n",
    "soma = reduz(lambda x, y: x + y, vec, 0)\n",
    "\n",
    "print(vec)\n",
    "print(soma)"
   ]
  },
  {
   "cell_type": "markdown",
   "metadata": {},
   "source": [
    "Funções lambda não são essenciais à programação em Python, fica a seu cargo usar lambdas ou funções com nome. Mesmo o criador da linguagem Python (Guido van Rossum, o *\"Benevolent Dictator For Life\"* do Python) se arrepende de ter criado lambdas, e queria te-los removido do Python 3, mas a comunidade em geral acha lambdas úteis. Fica a seu cargo, não existe regra geral para adotar ou rejeitar o uso de lambdas."
   ]
  },
  {
   "cell_type": "markdown",
   "metadata": {},
   "source": [
    "### Exercício\n",
    "\n",
    "Faça uma função ```filtra(func, vec)``` que recebe uma função ```func(valor)``` e uma lista ```vec```, e retorna uma lista com os valores de ```vec``` para os quais ```func(valor)``` é ```True```."
   ]
  },
  {
   "cell_type": "code",
   "execution_count": null,
   "metadata": {},
   "outputs": [],
   "source": []
  },
  {
   "cell_type": "markdown",
   "metadata": {},
   "source": [
    "## Closures\n",
    "\n",
    "https://www.programiz.com/python-programming/closure\n",
    "\n",
    "Talvez você tenha percebido por acidente que em um escopo qualquer de Python temos acesso às variáveis do escopo e de escopos externos. Por exemplo:"
   ]
  },
  {
   "cell_type": "code",
   "execution_count": null,
   "metadata": {
    "tags": []
   },
   "outputs": [],
   "source": [
    "def func(value):\n",
    "    return x + value  # x nem foi definido ainda!\n",
    "\n",
    "\n",
    "x = 5\n",
    "print(func(3))\n",
    "\n",
    "x = 7\n",
    "print(func(3))"
   ]
  },
  {
   "cell_type": "markdown",
   "metadata": {},
   "source": [
    "Isso normalmente é fonte de complicações, e deve ser evitado a todo custo! Existe uma exceção: *closures*.\n",
    "\n",
    "Em Python, *closure* é o nome dado à uma construção muito particular:\n",
    "\n",
    "- Temos uma função definida dentro de uma função.\n",
    "- Esta função interna usa variáveis do escopo da função externa.\n",
    "- A função externa retorna a função interna.\n",
    "\n",
    "Confuso? Vejamos um exemplo:"
   ]
  },
  {
   "cell_type": "code",
   "execution_count": null,
   "metadata": {},
   "outputs": [],
   "source": [
    "# Eis um exemplo de closure\n",
    "def aumentador(incremento):\n",
    "\n",
    "    def _aumentador(x):\n",
    "        return x + incremento\n",
    "\n",
    "    return _aumentador\n",
    "\n",
    "\n",
    "soma_um = aumentador(1)\n",
    "soma_cinco = aumentador(5)\n",
    "print(soma_um(3))\n",
    "print(soma_cinco(3))"
   ]
  },
  {
   "cell_type": "code",
   "execution_count": null,
   "metadata": {},
   "outputs": [],
   "source": [
    "# A partir de agora podemos até mesmo destruir aumentador()\n",
    "del aumentador\n",
    "\n",
    "# Veja que aumentador não existe mais:\n",
    "try:\n",
    "    aux = aumentador(3)\n",
    "except NameError as e:\n",
    "    print(e)"
   ]
  },
  {
   "cell_type": "code",
   "execution_count": null,
   "metadata": {},
   "outputs": [],
   "source": [
    "# Porém soma_um() e soma_cinco() continuam firmes!\n",
    "print(soma_um(5))\n",
    "print(soma_cinco(5))"
   ]
  },
  {
   "cell_type": "markdown",
   "metadata": {},
   "source": [
    "Em um closure o sistema faz um \"backup\" das variáveis do escopo externo, **mas apenas nas condições de closure**. Confira os atributos de ```soma_um``` (afinal funções são objetos):"
   ]
  },
  {
   "cell_type": "code",
   "execution_count": null,
   "metadata": {},
   "outputs": [],
   "source": [
    "dir(soma_um)"
   ]
  },
  {
   "cell_type": "markdown",
   "metadata": {},
   "source": [
    "Observe que temos um atributo \"```__closure__```\". Vejamos o que está contido neste atributo:"
   ]
  },
  {
   "cell_type": "code",
   "execution_count": null,
   "metadata": {},
   "outputs": [],
   "source": [
    "type(soma_cinco.__closure__)"
   ]
  },
  {
   "cell_type": "code",
   "execution_count": null,
   "metadata": {},
   "outputs": [],
   "source": [
    "len(soma_cinco.__closure__)"
   ]
  },
  {
   "cell_type": "code",
   "execution_count": null,
   "metadata": {},
   "outputs": [],
   "source": [
    "soma_cinco.__closure__[0]"
   ]
  },
  {
   "cell_type": "code",
   "execution_count": null,
   "metadata": {},
   "outputs": [],
   "source": [
    "soma_cinco.__closure__[0].cell_contents"
   ]
  },
  {
   "cell_type": "markdown",
   "metadata": {},
   "source": [
    "Observe que o valor foi guardado no closure.\n",
    "\n",
    "Ok, mas e daí? Para que servem os *closures*?"
   ]
  },
  {
   "cell_type": "markdown",
   "metadata": {},
   "source": [
    "### Decorators"
   ]
  },
  {
   "cell_type": "code",
   "execution_count": null,
   "metadata": {},
   "outputs": [],
   "source": [
    "# Eis o decorator\n",
    "def temp_dec(nome):\n",
    "\n",
    "    def imprime_args(func):\n",
    "\n",
    "        def func_wrapper(*args, **kwargs):\n",
    "            resultado = func(*args, **kwargs)\n",
    "            print(\"Argumentos posicionais: {}\".format(args))\n",
    "            print(\"Argumentos nomeados: {}\".format(kwargs))\n",
    "            print(\"Comentário: {}\".format(nome))\n",
    "            print(\"Resultado: {}\".format(resultado))\n",
    "            return resultado\n",
    "\n",
    "        return func_wrapper\n",
    "\n",
    "    return imprime_args\n",
    "\n",
    "\n",
    "# Aplicação do decorator\n",
    "@temp_dec(\"Insper\")\n",
    "def uma_funcao_qualquer(x, y, z):\n",
    "    return x + y + z\n",
    "\n",
    "\n",
    "p = uma_funcao_qualquer(1, 2, z=3)\n",
    "print(p)"
   ]
  },
  {
   "cell_type": "markdown",
   "metadata": {},
   "source": [
    "### Exercício\n",
    "\n",
    "Caching: faça um decorator para guardar um dicionário de valores já calculados de uma função. Se em uma nova chamada tivermos como argumento um valor já visto, retorna direto do dicionário, senão realmente chama a função sendo decorada."
   ]
  },
  {
   "cell_type": "code",
   "execution_count": null,
   "metadata": {},
   "outputs": [],
   "source": []
  },
  {
   "cell_type": "markdown",
   "metadata": {},
   "source": [
    "Este padrão é tão comum que o Python já oferece esse decorator no pacote ```functools```. Veja este exemplo obtido da documentação da biblioteca:"
   ]
  },
  {
   "cell_type": "code",
   "execution_count": null,
   "metadata": {},
   "outputs": [],
   "source": [
    "from functools import lru_cache\n",
    "\n",
    "\n",
    "@lru_cache(maxsize=None)\n",
    "def fib(n):\n",
    "    if n < 2:\n",
    "        return n\n",
    "    return fib(n - 1) + fib(n - 2)\n",
    "\n",
    "\n",
    "[fib(n) for n in range(16)]"
   ]
  },
  {
   "cell_type": "code",
   "execution_count": null,
   "metadata": {},
   "outputs": [],
   "source": [
    "fib.cache_info()"
   ]
  },
  {
   "cell_type": "markdown",
   "metadata": {},
   "source": [
    "### Aplicação parcial de argumentos\n",
    "\n",
    "Eis um *closure* que recebe uma função que opera em dois argumentos (uma $f(x,y)$) e um valor $x_0$ e \"congela\" o primeiro valor, resultando em uma $g(y) = f(x_0,y)$\"."
   ]
  },
  {
   "cell_type": "code",
   "execution_count": null,
   "metadata": {},
   "outputs": [],
   "source": [
    "def aplica_primeiro_argumento(func, x):\n",
    "\n",
    "    def wrapper(y):\n",
    "        return func(x, y)\n",
    "\n",
    "    return wrapper"
   ]
  },
  {
   "cell_type": "markdown",
   "metadata": {},
   "source": [
    "Testando:"
   ]
  },
  {
   "cell_type": "code",
   "execution_count": null,
   "metadata": {},
   "outputs": [],
   "source": [
    "def soma_dois_args(x, y):\n",
    "    return x + y\n",
    "\n",
    "\n",
    "print(soma_dois_args(2, 5))"
   ]
  },
  {
   "cell_type": "code",
   "execution_count": null,
   "metadata": {},
   "outputs": [],
   "source": [
    "soma_cinco = aplica_primeiro_argumento(soma_dois_args, 5)\n",
    "print(soma_cinco(2))"
   ]
  },
  {
   "cell_type": "markdown",
   "metadata": {},
   "source": [
    "A aplicação parcial de argumentos é uma ferramenta tão comum em programação funcional que o Python tem uma função mais genérica para isso no pacote ```functools```:"
   ]
  },
  {
   "cell_type": "code",
   "execution_count": null,
   "metadata": {},
   "outputs": [],
   "source": [
    "from functools import partial\n",
    "\n",
    "soma_3 = partial(soma_dois_args, 3)\n",
    "print(soma_3(10))"
   ]
  },
  {
   "cell_type": "markdown",
   "metadata": {},
   "source": [
    "## List comprehensions\n",
    "\n",
    "Antes de prosseguirmos na exploração de programação funcional em Python, vamos aprender sobre *list comprehensions*. Considere a função abaixo que retorna uma nova lista onde cada item é o quadrado do item equivalente na lista passada como argumento."
   ]
  },
  {
   "cell_type": "code",
   "execution_count": null,
   "metadata": {},
   "outputs": [],
   "source": [
    "vec = [2, 3, 5]"
   ]
  },
  {
   "cell_type": "code",
   "execution_count": null,
   "metadata": {},
   "outputs": [],
   "source": [
    "def lista_quadrado(vec):\n",
    "    res = []\n",
    "    for item in vec:\n",
    "        res.append(item**2)\n",
    "    return res\n",
    "\n",
    "\n",
    "vec_quad = lista_quadrado(vec)\n",
    "print(vec_quad)"
   ]
  },
  {
   "cell_type": "markdown",
   "metadata": {},
   "source": [
    "Vamos fazer o mesmo com *list comprehension*:"
   ]
  },
  {
   "cell_type": "code",
   "execution_count": null,
   "metadata": {},
   "outputs": [],
   "source": [
    "vec_quad_2 = [x**2 for x in vec]\n",
    "print(vec_quad_2)"
   ]
  },
  {
   "cell_type": "markdown",
   "metadata": {},
   "source": [
    "Podemos também filtrar uma lista:"
   ]
  },
  {
   "cell_type": "code",
   "execution_count": null,
   "metadata": {},
   "outputs": [],
   "source": [
    "vec = list(range(20))\n",
    "vec_even = [x for x in vec if x % 2 == 0]\n",
    "print(vec_even)"
   ]
  },
  {
   "cell_type": "markdown",
   "metadata": {},
   "source": [
    "É possível, mas não muito recomendável, fazer multiplos `for` em um *list comprehension*:"
   ]
  },
  {
   "cell_type": "code",
   "execution_count": null,
   "metadata": {},
   "outputs": [],
   "source": [
    "res = [(x, y) for x in [1, 2, 3] for y in ['a', 'b']]\n",
    "res"
   ]
  },
  {
   "cell_type": "markdown",
   "metadata": {},
   "source": [
    "Isto é equivalente a:"
   ]
  },
  {
   "cell_type": "code",
   "execution_count": null,
   "metadata": {},
   "outputs": [],
   "source": [
    "res = []\n",
    "for x in [1, 2, 3]:\n",
    "    for y in ['a', 'b']:\n",
    "        res.append((x, y))\n",
    "res"
   ]
  },
  {
   "cell_type": "markdown",
   "metadata": {},
   "source": [
    "Podemos inclusive estabelecer uma relação de dependência do segundo `for` em relação ao primeiro:"
   ]
  },
  {
   "cell_type": "code",
   "execution_count": null,
   "metadata": {},
   "outputs": [],
   "source": [
    "res = [(i, j) for i in range(3) for j in range(i, 3)]\n",
    "res"
   ]
  },
  {
   "cell_type": "markdown",
   "metadata": {},
   "source": [
    "Isto é equivalente a:"
   ]
  },
  {
   "cell_type": "code",
   "execution_count": null,
   "metadata": {},
   "outputs": [],
   "source": [
    "res = []\n",
    "for i in range(3):\n",
    "    for j in range(i, 3):\n",
    "        res.append((i, j))\n",
    "res"
   ]
  },
  {
   "cell_type": "markdown",
   "metadata": {},
   "source": [
    "Podemos tambem incluir condicionais:"
   ]
  },
  {
   "cell_type": "code",
   "execution_count": null,
   "metadata": {},
   "outputs": [],
   "source": [
    "res = [(i, j) for i in range(5) if i % 2 == 0 for j in range(i, 5)\n",
    "       if j % 2 == 0]\n",
    "res"
   ]
  },
  {
   "cell_type": "markdown",
   "metadata": {},
   "source": [
    "Isto é equivalente à:"
   ]
  },
  {
   "cell_type": "code",
   "execution_count": null,
   "metadata": {},
   "outputs": [],
   "source": [
    "res = []\n",
    "for i in range(5):\n",
    "    if i % 2 == 0:\n",
    "        for j in range(i, 5):\n",
    "            if j % 2 == 0:\n",
    "                res.append((i, j))\n",
    "res"
   ]
  },
  {
   "cell_type": "markdown",
   "metadata": {},
   "source": [
    "## ```zip()```\n",
    "\n",
    "Outra característica útil de Python é a função ```zip()```. Esta função recebe dois iteráveis e retorna um novo iterável formado por pares obtidos através da fusão elemento-a-elemento dos iteráveis iniciais. O iterável de pares que é retornado itera até que um dos iteráveis originais esteja esgotado. Por exemplo:"
   ]
  },
  {
   "cell_type": "code",
   "execution_count": null,
   "metadata": {
    "scrolled": true
   },
   "outputs": [],
   "source": [
    "x1 = [2, 3, 5]\n",
    "x2 = ['abobora', 'batata', 'chuchu', 'tomate']\n",
    "\n",
    "y = zip(x1, x2)\n",
    "print(y)"
   ]
  },
  {
   "cell_type": "code",
   "execution_count": null,
   "metadata": {
    "scrolled": true
   },
   "outputs": [],
   "source": [
    "print(list(y))"
   ]
  },
  {
   "cell_type": "code",
   "execution_count": null,
   "metadata": {},
   "outputs": [],
   "source": [
    "print([x for x in zip(x1, x2)])"
   ]
  },
  {
   "cell_type": "code",
   "execution_count": null,
   "metadata": {},
   "outputs": [],
   "source": [
    "for primo, comida in zip(x1, x2):\n",
    "    print(f'{comida}, {primo}')"
   ]
  },
  {
   "cell_type": "markdown",
   "metadata": {},
   "source": [
    "### Exercício\n",
    "\n",
    "Use ```sum()```, ```zip()``` e *list comprehension* para implementar o produto escalar de dois vetores em $\\mathbb{R}^n$:\n",
    "\n",
    "$$\\left<x, y\\right> = \\sum_{i=1}^{n} x_i y_i$$"
   ]
  },
  {
   "cell_type": "code",
   "execution_count": null,
   "metadata": {},
   "outputs": [],
   "source": []
  },
  {
   "cell_type": "markdown",
   "metadata": {},
   "source": [
    "Voltamos agora à programação original."
   ]
  },
  {
   "cell_type": "markdown",
   "metadata": {},
   "source": [
    "## Funções puras\n",
    "\n",
    "Uma função pura é uma função sem *efeitos colaterais* (*side-effects*): não altera a entrada, nem resulta em respostas diferentes para chamadas iguais.\n",
    "\n",
    "Considere a função a seguir:"
   ]
  },
  {
   "cell_type": "code",
   "execution_count": null,
   "metadata": {},
   "outputs": [],
   "source": [
    "def soma_um_em_tudo(vec):\n",
    "    res = vec\n",
    "    for i in range(len(res)):\n",
    "        res[i] += 1\n",
    "    return res\n",
    "\n",
    "\n",
    "x = [1, 2, 3]\n",
    "y = soma_um_em_tudo(x)\n",
    "\n",
    "print(x)\n",
    "print(y)"
   ]
  },
  {
   "cell_type": "markdown",
   "metadata": {},
   "source": [
    "Observe que a chamada da função resultou na modificação do vetor de entrada! Esta é uma função com efeitos colaterais.\n",
    "\n",
    "Considere agora esta outra versão:"
   ]
  },
  {
   "cell_type": "code",
   "execution_count": null,
   "metadata": {},
   "outputs": [],
   "source": [
    "def soma_um_em_tudo(vec):\n",
    "    res = vec.copy()\n",
    "    for i in range(len(res)):\n",
    "        res[i] += 1\n",
    "    return res\n",
    "\n",
    "\n",
    "x = [1, 2, 3]\n",
    "y = soma_um_em_tudo(x)\n",
    "\n",
    "print(x)\n",
    "print(y)"
   ]
  },
  {
   "cell_type": "markdown",
   "metadata": {},
   "source": [
    "Agora tudo bem, temos uma função pura.\n",
    "\n",
    "Veja este outro exemplo:"
   ]
  },
  {
   "cell_type": "code",
   "execution_count": null,
   "metadata": {},
   "outputs": [],
   "source": [
    "contador = 0\n",
    "\n",
    "\n",
    "def foo(x):\n",
    "    global contador\n",
    "    contador += 1\n",
    "    return x + contador\n",
    "\n",
    "\n",
    "print(foo(1))\n",
    "print(foo(1))"
   ]
  },
  {
   "cell_type": "markdown",
   "metadata": {},
   "source": [
    "Este também é um exemplo de função com efeitos colaterais.\n",
    "\n",
    "Funções puras são importantes porque:\n",
    "\n",
    "- São mais fáceis de debugar;\n",
    "- Podem ser cacheadas externamente;\n",
    "- Podem ser paralelizáveis;\n",
    "- Permitem demonstrar, em certos casos, que o sistema funciona matematicamente."
   ]
  },
  {
   "cell_type": "markdown",
   "metadata": {},
   "source": [
    "## Higher-order functions\n",
    "\n",
    "Funções que recebem outras funções como argumento são chamadas de funções de ordem superior (*higher-order functions*). Algumas das mais importantes são ```map()```, ```filter()``` e ```reduce()```.\n",
    "\n",
    "### ```map()```\n",
    "\n",
    "A função ```map(func, iteravel)``` recebe uma função (preferencialmente pura) ```func``` e uma estrutura de dados iterável (como uma lista), e retorna um iterador onde cada elemento corresponde a um elemento do iterável inicial após aplicação da função. Por exemplo:"
   ]
  },
  {
   "cell_type": "code",
   "execution_count": null,
   "metadata": {},
   "outputs": [],
   "source": [
    "vec = [2, 3, 5]\n",
    "aux = map(lambda x: x**2, vec)\n",
    "print(aux)"
   ]
  },
  {
   "cell_type": "code",
   "execution_count": null,
   "metadata": {},
   "outputs": [],
   "source": [
    "resultado = list(aux)\n",
    "print(resultado)"
   ]
  },
  {
   "cell_type": "markdown",
   "metadata": {},
   "source": [
    "Note que poderíamos ter escrito um loop for para obter esse resultado. Com o map() não precisamos escrever loops (uma vantagem), e podemos deixar - em princípio - o Python decidir se quer rodar essa operação de mapeamento em paralelo, dividindo o trabalho entre vários *cores* (uma IMENSA vantagem!). \n",
    "\n",
    "### ```filter()```\n",
    "\n",
    "A função ```filter(func, iteravel)``` recebe uma função ```func``` e um iterável e retorna um iterável cujos itens são aqueles onde ```func()``` retornou True ao ser aplicada aos itens do iteravel original. Por exemplo:"
   ]
  },
  {
   "cell_type": "code",
   "execution_count": null,
   "metadata": {},
   "outputs": [],
   "source": [
    "vec = list(range(10))\n",
    "aux = filter(lambda x: x % 2 == 1, vec)\n",
    "print(aux)"
   ]
  },
  {
   "cell_type": "code",
   "execution_count": null,
   "metadata": {},
   "outputs": [],
   "source": [
    "resultado = list(aux)\n",
    "print(resultado)"
   ]
  },
  {
   "cell_type": "markdown",
   "metadata": {},
   "source": [
    "### ```reduce()```\n",
    "A função ```functools.reduce(func, iterable, initial)``` recebe uma função ```func(x,y)```, um iterável e um valor inicial, e combina os valores do iterável através da aplicação repetida de ```func()``` que serve para combinar os valores dois-a-dois, exatamente como na função ```reduz()``` acima. Se o valor inicial não for passado então o primeiro valor do iterável servirá para iniciar o processo. Por exemplo:"
   ]
  },
  {
   "cell_type": "code",
   "execution_count": null,
   "metadata": {},
   "outputs": [],
   "source": [
    "from functools import reduce\n",
    "\n",
    "vec = list(range(10))\n",
    "soma = reduce(lambda x, y: x + y, vec)\n",
    "print(soma)"
   ]
  },
  {
   "cell_type": "markdown",
   "metadata": {},
   "source": [
    "### Exercício\n",
    "\n",
    "Escreva um programa que calcula o produto do valor absoluto dos elementos de uma lista, para os valores não-nulos apenas. Não use loops: use map(), filter() e reduce()."
   ]
  },
  {
   "cell_type": "code",
   "execution_count": null,
   "metadata": {},
   "outputs": [],
   "source": []
  },
  {
   "cell_type": "markdown",
   "metadata": {},
   "source": [
    "Como você pode ver, ficou meio esquisito mas funciona. Vamos agora construir uma classe auxiliar que permite encadear as operações:"
   ]
  },
  {
   "cell_type": "code",
   "execution_count": null,
   "metadata": {},
   "outputs": [],
   "source": [
    "class MeuDataFrameCaseiro:\n",
    "\n",
    "    def __init__(self, dados):\n",
    "        self.dados = dados\n",
    "\n",
    "    def map(self, func):\n",
    "        novos_dados = list(map(func, self.dados))\n",
    "        return MeuDataFrameCaseiro(novos_dados)\n",
    "\n",
    "    def filter(self, func):\n",
    "        novos_dados = list(filter(func, self.dados))\n",
    "        return MeuDataFrameCaseiro(novos_dados)\n",
    "\n",
    "    def reduce(self, func, init):\n",
    "        return reduce(func, self.dados, init)"
   ]
  },
  {
   "cell_type": "markdown",
   "metadata": {},
   "source": [
    "Usando essa classe fica mais intuitivo escrever nossa tarefa acima:"
   ]
  },
  {
   "cell_type": "code",
   "execution_count": null,
   "metadata": {},
   "outputs": [],
   "source": [
    "vec"
   ]
  },
  {
   "cell_type": "code",
   "execution_count": null,
   "metadata": {},
   "outputs": [],
   "source": [
    "df = MeuDataFrameCaseiro(vec)\n",
    "\n",
    "df \\\n",
    "    .filter(lambda x: x > 0) \\\n",
    "    .map(lambda x: x**2) \\\n",
    "    .reduce(lambda x, y: x + y, 0)"
   ]
  },
  {
   "cell_type": "markdown",
   "metadata": {},
   "source": [
    "### Exercício\n",
    "\n",
    "O código abaixo le as linhas de um arquivo CSV contendo dados sobre pacientes e se estes apareceram nas suas consultas médicas agendadas ou se faltaram. Escreva um programa que calcula a média de idade dos homens que faltaram às consultas. Não use loops, use apenas programação funcional."
   ]
  },
  {
   "cell_type": "code",
   "execution_count": null,
   "metadata": {},
   "outputs": [],
   "source": [
    "filename = 'pacientes.csv'\n",
    "\n",
    "with open(filename, 'r', encoding='utf-8') as f:\n",
    "    name_row = f.readline().strip().split(',')\n",
    "    data = [x.strip().split(',') for x in f]\n",
    "\n",
    "for i, name in enumerate(name_row):\n",
    "    print(f'{i}: {name}')"
   ]
  },
  {
   "cell_type": "code",
   "execution_count": null,
   "metadata": {},
   "outputs": [],
   "source": [
    "print(data[0])"
   ]
  },
  {
   "cell_type": "code",
   "execution_count": null,
   "metadata": {},
   "outputs": [],
   "source": []
  }
 ],
 "metadata": {
  "kernelspec": {
   "display_name": "megadados",
   "language": "python",
   "name": "megadados"
  },
  "language_info": {
   "codemirror_mode": {
    "name": "ipython",
    "version": 3
   },
   "file_extension": ".py",
   "mimetype": "text/x-python",
   "name": "python",
   "nbconvert_exporter": "python",
   "pygments_lexer": "ipython3",
   "version": "3.8.12"
  }
 },
 "nbformat": 4,
 "nbformat_minor": 4
}
