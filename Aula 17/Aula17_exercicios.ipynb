{
 "cells": [
  {
   "cell_type": "code",
   "execution_count": 2,
   "id": "336b38e1",
   "metadata": {},
   "outputs": [],
   "source": [
    "import mysql.connector\n",
    "from functools import partial\n",
    "\n",
    "\n",
    "def get_connection_helper():\n",
    "\n",
    "    def run_db_query(connection, query, args=None):\n",
    "        with connection.cursor() as cursor:\n",
    "            print('Executando query:')\n",
    "            cursor.execute(query, args)\n",
    "            for result in cursor:\n",
    "                print(result)\n",
    "\n",
    "    connection = mysql.connector.connect(\n",
    "        host='localhost',\n",
    "        user='megadados',\n",
    "        password='megadados',\n",
    "        database='parques',\n",
    "    )\n",
    "    return connection, partial(run_db_query, connection)\n",
    "\n",
    "\n",
    "connection, db = get_connection_helper()"
   ]
  },
  {
   "cell_type": "code",
   "execution_count": 5,
   "id": "8df9ce47",
   "metadata": {},
   "outputs": [
    {
     "name": "stdout",
     "output_type": "stream",
     "text": [
      "Executando query:\n",
      "('administradora',)\n",
      "('evento',)\n",
      "('parque',)\n",
      "('tipoevento',)\n",
      "('usuario',)\n",
      "Executando query:\n",
      "('id_tipo', b'int', 'NO', 'PRI', None, '')\n",
      "('descricao', b'varchar(80)', 'NO', '', None, '')\n"
     ]
    }
   ],
   "source": [
    "db('''\n",
    "SHOW TABLES\n",
    "''')\n",
    "\n",
    "db('''\n",
    "DESCRIBE TIPOEVENTO\n",
    "''')"
   ]
  },
  {
   "cell_type": "markdown",
   "id": "775136ff",
   "metadata": {},
   "source": [
    "#### Questão 4a\n",
    "\n",
    "Escreva uma query que liste todas as administradoras, ordenadas por número de eventos de segurança\n",
    "ocorridos nos parques que administram. Pegadinha: e se não houve evento de segurança em seus parques?"
   ]
  },
  {
   "cell_type": "code",
   "execution_count": 33,
   "id": "b0941e50",
   "metadata": {},
   "outputs": [
    {
     "name": "stdout",
     "output_type": "stream",
     "text": [
      "Executando query:\n",
      "('Fundação Fundão', 207)\n",
      "('Grupo Gripe', 130)\n",
      "('Sociedade dos Sócios', 105)\n",
      "('Instituto Instigare', 54)\n",
      "('Associação Autônoma Andarilha', 0)\n"
     ]
    }
   ],
   "source": [
    "db('''\n",
    "SELECT\n",
    "    ADMINISTRADORA.nome, COUNT(id_evento) as eventos\n",
    "FROM\n",
    "    PARQUE\n",
    "    LEFT OUTER JOIN EVENTO USING (id_parque)\n",
    "    INNER JOIN ADMINISTRADORA USING (id_adm)\n",
    "    LEFT OUTER JOIN TIPOEVENTO USING (id_tipo)\n",
    "WHERE\n",
    "    TIPOEVENTO.descricao = \"Segurança\" OR TIPOEVENTO.descricao IS NULL\n",
    "GROUP BY\n",
    "    id_adm\n",
    "ORDER BY\n",
    "    eventos DESC\n",
    "''')"
   ]
  },
  {
   "cell_type": "markdown",
   "id": "d2aecea9",
   "metadata": {},
   "source": [
    "#### Questão 4b\n",
    "\n",
    "Crie uma tabela temporária Total que tem as colunas (id_usuario, total) onde a coluna total indica o\n",
    "número total de eventos notificados pelo usuário id_usuario."
   ]
  },
  {
   "cell_type": "code",
   "execution_count": 37,
   "id": "5dfff7f5",
   "metadata": {},
   "outputs": [
    {
     "name": "stdout",
     "output_type": "stream",
     "text": [
      "Executando query:\n"
     ]
    }
   ],
   "source": [
    "db('''\n",
    "CREATE TEMPORARY TABLE Total\n",
    "    SELECT\n",
    "        id_usuario, COUNT(id_evento) as total\n",
    "    FROM\n",
    "        EVENTO\n",
    "        INNER JOIN USUARIO USING (id_usuario)\n",
    "    GROUP BY\n",
    "        id_usuario\n",
    "''')"
   ]
  },
  {
   "cell_type": "markdown",
   "id": "6cdc4e45",
   "metadata": {},
   "source": [
    "#### Questão 4c\n",
    "\n",
    "Crie uma tabela temporária chamada UsuarioParque que tem as colunas (id_usuario, id_parque,\n",
    "contagem) onde contagem é o número de eventos que o usuário id_usuario notificou acerca do parque\n",
    "id_parque. Dica: GROUP BY permite agrupar por múltiplas colunas."
   ]
  },
  {
   "cell_type": "code",
   "execution_count": 45,
   "id": "424a1da4",
   "metadata": {},
   "outputs": [
    {
     "name": "stdout",
     "output_type": "stream",
     "text": [
      "Executando query:\n"
     ]
    }
   ],
   "source": [
    "db('''\n",
    "CREATE TEMPORARY TABLE UsuarioParque\n",
    "    SELECT\n",
    "        id_usuario, id_parque, COUNT(id_evento) as contagem\n",
    "    FROM\n",
    "        PARQUE\n",
    "        INNER JOIN EVENTO USING (id_parque)\n",
    "    GROUP BY\n",
    "        id_usuario, id_parque\n",
    "''')"
   ]
  },
  {
   "cell_type": "markdown",
   "id": "5a7a64c8",
   "metadata": {},
   "source": [
    "#### Questão 4d\n",
    "\n",
    "Um usuário é um fã de um parque se a fração de eventos que ele notifica para o parque, em relação ao número\n",
    "total de eventos que ele notificou para todos os parques, é superior a 20%. Usando as tabelas temporárias acima\n",
    "(mesmo que não as tenha desenvolvido) faça uma query que lista os usuários que são fãs de dois ou mais\n",
    "parques."
   ]
  },
  {
   "cell_type": "code",
   "execution_count": 66,
   "id": "d6de7f14",
   "metadata": {},
   "outputs": [
    {
     "name": "stdout",
     "output_type": "stream",
     "text": [
      "Executando query:\n",
      "(36, 2)\n",
      "(26, 2)\n"
     ]
    }
   ],
   "source": [
    "db('''\n",
    "SELECT\n",
    "    id_usuario, COUNT((contagem*100)/total) as qtd\n",
    "FROM\n",
    "    TOTAL\n",
    "    INNER JOIN USUARIOPARQUE USING (id_usuario)\n",
    "WHERE\n",
    "    ((contagem*100)/total) > 20\n",
    "GROUP BY\n",
    "    id_usuario\n",
    "HAVING\n",
    "    qtd >= 2\n",
    "''')"
   ]
  },
  {
   "cell_type": "code",
   "execution_count": null,
   "id": "8b4acab2",
   "metadata": {},
   "outputs": [],
   "source": []
  }
 ],
 "metadata": {
  "kernelspec": {
   "display_name": "Python 3 (ipykernel)",
   "language": "python",
   "name": "python3"
  },
  "language_info": {
   "codemirror_mode": {
    "name": "ipython",
    "version": 3
   },
   "file_extension": ".py",
   "mimetype": "text/x-python",
   "name": "python",
   "nbconvert_exporter": "python",
   "pygments_lexer": "ipython3",
   "version": "3.9.6"
  }
 },
 "nbformat": 4,
 "nbformat_minor": 5
}
