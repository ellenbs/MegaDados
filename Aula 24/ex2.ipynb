{
 "cells": [
  {
   "cell_type": "code",
   "execution_count": 17,
   "id": "09a894f9-b29f-40db-97c0-f625901b7816",
   "metadata": {},
   "outputs": [],
   "source": [
    "import matplotlib.pyplot as plt\n",
    "import numpy as np"
   ]
  },
  {
   "cell_type": "markdown",
   "id": "819230b7-ac20-4cb0-bf4d-500e70c671cd",
   "metadata": {},
   "source": [
    "# Solução analítica"
   ]
  },
  {
   "cell_type": "markdown",
   "id": "e131f197-b55d-4bfc-bfdb-ff59c2982273",
   "metadata": {},
   "source": [
    "O número de jogos por dia é dado por \n",
    "$$\n",
    "f(t) = 5.2 \\times 10^6 \\times 2^{\\frac{t}{365}},\n",
    "$$\n",
    "onde $t$ é o número do dia. O número de bytes a serem armazenados por dia é\n",
    "$$\n",
    "g(t) = 50 \\frac{\\text{lances}}{\\text{partida}}  \\times 2 \\frac{\\text{bytes}}{\\text{lance}} \\times f(t) \\frac{\\text{partidas}}{\\text{dia}}\n",
    "= 5.2 \\times 10^8 \\times 2^{\\frac{t}{365}}.\n",
    "$$\n",
    "\n",
    "O volume total a ser armazenado no acúmulo de $t$ dias é\n",
    "$$\n",
    "G(t) = \\sum_{k = 0}^{t} g(t) = \\sum_{k = 0}^{t} 5.2 \\times 10^8 \\times 2^{\\frac{t}{365}} = \\sum_{k = 0}^{t} 5.2 \\times 10^8 \\times \\left(2^{\\frac{1}{365}}\\right)^t\n",
    "$$\n",
    "que é a soma de uma progressão geométrica de termo inicial $g(0) = 5.2 \\times 10^8$ e razão $r = 2^{\\frac{1}{365}}$.\n",
    "\n",
    "Portanto, a fórmula fechada para $G(t)$ é \n",
    "\n",
    "$$\n",
    "G(t) = \\frac{g(t + 1) - g(0)}{r - 1} = 5.2 \\times 10^8 \\frac{2^{\\frac{t + 1}{365}} - 1}{2^{\\frac{1}{365}} - 1}\n",
    "$$\n",
    "\n",
    "Vamos ver o comportamento desta função:"
   ]
  },
  {
   "cell_type": "code",
   "execution_count": 21,
   "id": "32a24e96-bd6d-4438-abdc-b52b228b68c3",
   "metadata": {},
   "outputs": [
    {
     "data": {
      "image/png": "[encoded data removed]",
      "text/plain": [
       "<Figure size 640x480 with 1 Axes>"
      ]
     },
     "metadata": {},
     "output_type": "display_data"
    }
   ],
   "source": [
    "def G(t):\n",
    "    return 5.2e8 * (2.0 ** ((t + 1.0) / 365.0) - 1.0) / (2.0 ** (1.0/365.0) - 1.0)\n",
    "\n",
    "t = np.arange(1, 1000, 1)\n",
    "y = G(t)\n",
    "y_1TB = 1e12 * np.ones(t.shape)\n",
    "\n",
    "plt.figure()\n",
    "plt.plot(t, y, '-', color='blue', label='$G(t)$')\n",
    "plt.plot(t, y_1TB, '--', color='orange', label='1 TB')\n",
    "\n",
    "plt.title('Armazenamento utilizado')\n",
    "plt.xlabel('dias')\n",
    "plt.ylabel('bytes')\n",
    "plt.legend()\n",
    "plt.show()"
   ]
  },
  {
   "cell_type": "markdown",
   "id": "8389fd9a-b4ae-453c-83b1-50cc02b22880",
   "metadata": {},
   "source": [
    "Queremos saber qual o dia em que o espaço livre de $1 \\text{TB}$ se esgotará. Aparentemente é em torno do dia 800. Vamos resolver a equação $G(t) = 10^{12}$. Isolando $t$ nesta equação:\n",
    "\n",
    "$$\n",
    "t = \\frac{\\log{\\left(1 + \\frac{10^{12}}{5.2 \\times 10^8} \\left( 2^{\\frac{1}{365}} - 1 \\right)\\right)}}{\\log{2^{\\frac{1}{365}}}} - 1\n",
    "$$"
   ]
  },
  {
   "cell_type": "code",
   "execution_count": 22,
   "id": "896d3645-39f4-47d6-8e91-6883f4b4c2ef",
   "metadata": {},
   "outputs": [
    {
     "name": "stdout",
     "output_type": "stream",
     "text": [
      "808.906828633632\n",
      "809.0\n"
     ]
    }
   ],
   "source": [
    "numerator = np.log(1 + (1e12/5.2e8) * (2 ** (1.0 / 365.0) - 1))\n",
    "denominator = np.log(2 ** (1.0 / 365.0))\n",
    "t = numerator/denominator - 1.0\n",
    "\n",
    "print(t)\n",
    "print(np.ceil(t))"
   ]
  },
  {
   "cell_type": "markdown",
   "id": "4e8d7633-c6eb-4704-9d03-d720aa484ee3",
   "metadata": {},
   "source": [
    "Logo, em $809$ dias o disco estoura, o que dá pouco mais de $2$ anos."
   ]
  },
  {
   "cell_type": "markdown",
   "id": "35aff92b-197f-46ea-b32a-0062539f0214",
   "metadata": {},
   "source": [
    "# Solução da boa preguiça"
   ]
  },
  {
   "cell_type": "markdown",
   "id": "0ce0d69f-74a5-4c8e-b611-c33d25278354",
   "metadata": {},
   "source": [
    "Soma em um *loop* com *break* quando estourar!"
   ]
  },
  {
   "cell_type": "code",
   "execution_count": 19,
   "id": "0354051c-6956-4cd1-b355-72b9d2ee5182",
   "metadata": {},
   "outputs": [
    {
     "name": "stdout",
     "output_type": "stream",
     "text": [
      "809\n",
      "2.2164383561643834\n"
     ]
    }
   ],
   "source": [
    "def g(t):\n",
    "    return 50 * 2 * 5_200_000 * 2 ** (t / 365.0)\n",
    "\n",
    "\n",
    "N = 10000\n",
    "\n",
    "soma = 0\n",
    "for t in range(N):\n",
    "    soma += g(t)\n",
    "    if soma > 1e12:\n",
    "        break\n",
    "        \n",
    "        \n",
    "print(t)\n",
    "print(t / 365)"
   ]
  },
  {
   "cell_type": "markdown",
   "id": "90c30628",
   "metadata": {},
   "source": [
    "Explique com suas palavras: porque o Spark é baseado em um paradigma de programação funcional?"
   ]
  },
  {
   "cell_type": "markdown",
   "id": "6881a48f",
   "metadata": {},
   "source": []
  }
 ],
 "metadata": {
  "kernelspec": {
   "display_name": "Python 3 (ipykernel)",
   "language": "python",
   "name": "python3"
  },
  "language_info": {
   "codemirror_mode": {
    "name": "ipython",
    "version": 3
   },
   "file_extension": ".py",
   "mimetype": "text/x-python",
   "name": "python",
   "nbconvert_exporter": "python",
   "pygments_lexer": "ipython3",
   "version": "3.9.6"
  }
 },
 "nbformat": 4,
 "nbformat_minor": 5
}
